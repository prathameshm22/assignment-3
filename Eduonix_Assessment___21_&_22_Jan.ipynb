{
  "nbformat": 4,
  "nbformat_minor": 0,
  "metadata": {
    "colab": {
      "provenance": []
    },
    "kernelspec": {
      "name": "python3",
      "display_name": "Python 3"
    },
    "language_info": {
      "name": "python"
    }
  },
  "cells": [
    {
      "cell_type": "markdown",
      "source": [
        "## **Problem-1**"
      ],
      "metadata": {
        "id": "bsAv1ozGXUrX"
      }
    },
    {
      "cell_type": "code",
      "metadata": {
        "id": "cXFu9xHC-2V-"
      },
      "source": [
        "# Vowel or consonant\n",
        "# Write a Python program to check whether an alphabet is a vowel or consonant.\n",
        "\n"
      ],
      "execution_count": null,
      "outputs": []
    },
    {
      "cell_type": "markdown",
      "source": [
        "Input:\n",
        "A\n",
        "\n",
        "Output:\n",
        "Vowel"
      ],
      "metadata": {
        "id": "gSafBUj6VooG"
      }
    },
    {
      "cell_type": "code",
      "source": [
        "def check_vowel(char):\n",
        "    vowels = ['a', 'e', 'i', 'o', 'u']\n",
        "    if char.lower() in vowels:\n",
        "        return \"Vowel\"\n",
        "    else:\n",
        "        return \"Not a Vowel\"\n",
        "\n",
        "char = 'A'\n",
        "print(check_vowel(char))\n"
      ],
      "metadata": {
        "id": "5u2Urczx3x5U",
        "colab": {
          "base_uri": "https://localhost:8080/"
        },
        "outputId": "aa8951fd-1e15-4bee-9087-50fc49d5b885"
      },
      "execution_count": 2,
      "outputs": [
        {
          "output_type": "stream",
          "name": "stdout",
          "text": [
            "Vowel\n"
          ]
        }
      ]
    },
    {
      "cell_type": "markdown",
      "source": [
        "# Problem 2"
      ],
      "metadata": {
        "id": "4eHQboAXPbh3"
      }
    },
    {
      "cell_type": "markdown",
      "source": [
        "# Calculate sum \n",
        "\n",
        "Write a Python program to calculate the sum of n integer numbers \n",
        "\n",
        "Sample output:\n",
        "\n",
        "\n",
        "Example :\n",
        "**Input:**\n",
        "2 4 6 8 10 \n",
        "\n",
        "**Output:**\n",
        "Sum of the above numbers are: 30"
      ],
      "metadata": {
        "id": "EnHi4attaWKS"
      }
    },
    {
      "cell_type": "code",
      "source": [
        "def sum_number(numbers):\n",
        "  return sum(numbers)\n",
        "\n",
        "  numbers = [2,4,6,8,10]\n",
        "  print(\"sum of above numbers are:\",sum_numbers(numbers))"
      ],
      "metadata": {
        "id": "hny834pH7ZXO"
      },
      "execution_count": 1,
      "outputs": []
    },
    {
      "cell_type": "code",
      "source": [],
      "metadata": {
        "id": "Ya88dW_NfcZv"
      },
      "execution_count": null,
      "outputs": []
    }
  ]
}